{
 "cells": [
  {
   "cell_type": "code",
   "execution_count": 1,
   "metadata": {},
   "outputs": [],
   "source": [
    "\n",
    "# Imports\n",
    "import torch\n",
    "import torchvision # torch package for vision related things\n",
    "import torch.nn.functional as F  # Parameterless functions, like (some) activation functions\n",
    "import torchvision.datasets as datasets  # Standard datasets\n",
    "import torchvision.transforms as transforms  # Transformations we can perform on our dataset for augmentation\n",
    "import torchvision.transforms as transforms\n",
    "\n",
    "from torch import optim  # For optimizers like SGD, Adam, etc.\n",
    "from torch import nn  # All neural network modules\n",
    "from torch.utils.data import DataLoader  # Gives easier dataset managment by creating mini batches etc.\n",
    "from tqdm import tqdm  # For nice progress bar!\n",
    "\n",
    "torch.cuda.empty_cache()\n",
    "\n"
   ]
  },
  {
   "cell_type": "code",
   "execution_count": 2,
   "metadata": {},
   "outputs": [
    {
     "name": "stdout",
     "output_type": "stream",
     "text": [
      "cuda\n"
     ]
    }
   ],
   "source": [
    "device=torch.device('cuda' if torch.cuda.is_available() else 'cpu')\n",
    "print(device)"
   ]
  },
  {
   "cell_type": "code",
   "execution_count": 3,
   "metadata": {},
   "outputs": [],
   "source": [
    "\n",
    "\n",
    "class ResBlock(nn.Module):\n",
    "    def __init__(self, in_channels, out_channels):\n",
    "        super(ResBlock,self).__init__()\n",
    "\n",
    "        self.in_channels=in_channels\n",
    "        self.out_channels=out_channels\n",
    "\n",
    "        if out_channels>in_channels: ## The dotted case in the paper\n",
    "            self.first_stride=2\n",
    "            self.skip_connection=nn.Sequential(\n",
    "                nn.Conv2d(in_channels=in_channels,out_channels=out_channels,kernel_size=1,stride=2),\n",
    "                nn.BatchNorm2d(out_channels))\n",
    "        else:                        ## The usual case in the paper\n",
    "            self.first_stride=1     \n",
    "            self.skip_connection=nn.Sequential()\n",
    "\n",
    "\n",
    "        self.conv1=nn.Conv2d(in_channels=self.in_channels,out_channels=self.out_channels,kernel_size=3,stride=self.first_stride,padding=1)\n",
    "        self.bn1=nn.BatchNorm2d(out_channels)\n",
    "\n",
    "        self.conv2=nn.Conv2d(in_channels=self.out_channels,out_channels=self.out_channels,kernel_size=3,stride=1,padding=1)\n",
    "        self.bn2=nn.BatchNorm2d(out_channels)\n",
    "\n",
    "    def forward(self,x):\n",
    "        shortcut=self.skip_connection(x)\n",
    "\n",
    "        x=F.relu(self.bn1(self.conv1(x)))\n",
    "        x=F.relu(self.bn2(self.conv2(x)))\n",
    "        x= x+shortcut\n",
    "        x=F.relu(x)\n",
    "        \n",
    "        return x\n",
    "\n"
   ]
  },
  {
   "cell_type": "code",
   "execution_count": 4,
   "metadata": {},
   "outputs": [],
   "source": [
    "class ResNet(nn.Module): # input image is 224x224\n",
    "    def __init__(self,in_channels=3,num_classes=10):\n",
    "        super(ResNet,self).__init__()\n",
    "        self.in_channels=in_channels\n",
    "        self.num_classes=num_classes\n",
    "\n",
    "        self.layer0=nn.Sequential(\n",
    "            nn.Conv2d(in_channels=self.in_channels,out_channels=64,kernel_size=7,stride=2,padding=3),\n",
    "            nn.MaxPool2d(kernel_size=3,stride=2,padding=1),\n",
    "            nn.BatchNorm2d(64)\n",
    "        )\n",
    "\n",
    "        self.layer1=ResBlock(64,64)\n",
    "        self.layer2=ResBlock(64,64)\n",
    "        self.layer3=ResBlock(64,64)\n",
    "        \n",
    "        self.layer4=ResBlock(64,128)\n",
    "        self.layer5=ResBlock(128,128)\n",
    "        self.layer6=ResBlock(128,128)\n",
    "        self.layer7=ResBlock(128,128)\n",
    "\n",
    "        self.layer8=ResBlock(128,256)\n",
    "        self.layer9=ResBlock(256,256)\n",
    "        self.layer10=ResBlock(256,256)\n",
    "        self.layer11=ResBlock(256,256)\n",
    "        self.layer12=ResBlock(256,256)\n",
    "        self.layer13=ResBlock(256,256)\n",
    "\n",
    "        self.layer14=ResBlock(256,512)\n",
    "        self.layer15=ResBlock(512,512)\n",
    "        self.layer16=ResBlock(512,512)\n",
    "\n",
    "        self.avgpool = nn.AdaptiveAvgPool2d(1)\n",
    "        self.fc=nn.Linear(512,self.num_classes)\n",
    "\n",
    "\n",
    "\n",
    "    def forward(self,x):\n",
    "        x=self.layer0(x)\n",
    "        x=F.relu(x)\n",
    "        x=self.layer1(x)\n",
    "        x=self.layer2(x)\n",
    "        x=self.layer3(x)\n",
    "        x=self.layer4(x)\n",
    "        x=self.layer5(x)\n",
    "        x=self.layer6(x)\n",
    "        x=self.layer7(x)\n",
    "        x=self.layer8(x)\n",
    "        x=self.layer9(x)\n",
    "        x=self.layer10(x)\n",
    "        x=self.layer11(x)\n",
    "        x=self.layer12(x)\n",
    "        x=self.layer13(x)\n",
    "        x=self.layer14(x)\n",
    "        x=self.layer15(x)\n",
    "        x=self.layer16(x)\n",
    "        x=self.avgpool(x)\n",
    "        x=F.relu(x)\n",
    "        #print(\"SHAPE=\",x.shape)\n",
    "        x=x.reshape(x.shape[0],-1)\n",
    "        x=self.fc(x)\n",
    "        return x\n",
    "        \n",
    "        \n",
    "\n",
    "\n",
    "\n"
   ]
  },
  {
   "cell_type": "code",
   "execution_count": 5,
   "metadata": {},
   "outputs": [],
   "source": [
    "model=ResNet(1,10).to(device=device)"
   ]
  },
  {
   "cell_type": "code",
   "execution_count": null,
   "metadata": {},
   "outputs": [],
   "source": []
  }
 ],
 "metadata": {
  "kernelspec": {
   "display_name": "Python 3.9.12 ('base')",
   "language": "python",
   "name": "python3"
  },
  "language_info": {
   "codemirror_mode": {
    "name": "ipython",
    "version": 3
   },
   "file_extension": ".py",
   "mimetype": "text/x-python",
   "name": "python",
   "nbconvert_exporter": "python",
   "pygments_lexer": "ipython3",
   "version": "3.9.12"
  },
  "orig_nbformat": 4,
  "vscode": {
   "interpreter": {
    "hash": "85532dc71f3ddefdcfdbd0be1b525c1c0affee72012a798b080bb8224659b1af"
   }
  }
 },
 "nbformat": 4,
 "nbformat_minor": 2
}

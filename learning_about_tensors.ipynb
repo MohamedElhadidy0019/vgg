{
 "cells": [
  {
   "cell_type": "code",
   "execution_count": 1,
   "metadata": {},
   "outputs": [],
   "source": [
    "import numpy as np\n",
    "import torch\n",
    "\n",
    "import torch.nn as nn\n",
    "import torch.nn.init as init\n"
   ]
  },
  {
   "cell_type": "markdown",
   "metadata": {},
   "source": [
    "# Tensor Initializations"
   ]
  },
  {
   "cell_type": "code",
   "execution_count": 2,
   "metadata": {},
   "outputs": [],
   "source": [
    "\n",
    "device= \"cuda\" if torch.cuda.is_available() else \"cpu\""
   ]
  },
  {
   "cell_type": "code",
   "execution_count": 3,
   "metadata": {},
   "outputs": [
    {
     "name": "stdout",
     "output_type": "stream",
     "text": [
      "tensor([[1., 2., 3.],\n",
      "        [4., 5., 6.]], device='cuda:0')\n",
      "torch.float32\n",
      "cuda:0\n",
      "torch.Size([2, 3])\n",
      "False\n"
     ]
    }
   ],
   "source": [
    "# making tensors\n",
    "\n",
    "my_tensor = torch.tensor([[1,2,3],[4,5,6]], dtype=torch.float32, device=device)\n",
    "\n",
    "print(my_tensor)\n",
    "print(my_tensor.dtype)\n",
    "print(my_tensor.device)\n",
    "print(my_tensor.shape)\n",
    "print(my_tensor.requires_grad)"
   ]
  },
  {
   "cell_type": "code",
   "execution_count": 4,
   "metadata": {},
   "outputs": [
    {
     "name": "stdout",
     "output_type": "stream",
     "text": [
      "tensor([[0., 0., 0.],\n",
      "        [0., 0., 0.],\n",
      "        [0., 0., 0.]], device='cuda:0')\n"
     ]
    }
   ],
   "source": [
    "# zeros\n",
    "\n",
    "x=torch.zeros((3,3),dtype=torch.float32,device=device)\n",
    "print(x)\n"
   ]
  },
  {
   "cell_type": "code",
   "execution_count": 5,
   "metadata": {},
   "outputs": [
    {
     "name": "stdout",
     "output_type": "stream",
     "text": [
      "tensor([[0.3552, 0.8622, 0.6864],\n",
      "        [0.2183, 0.6978, 0.7925],\n",
      "        [0.7819, 0.9810, 0.4143]], device='cuda:0')\n"
     ]
    }
   ],
   "source": [
    "\n",
    "# rand is uniform distribution from 0 to 1\n",
    "x=torch.rand((3,3),dtype=torch.float32,device=device)\n",
    "print(x)\n"
   ]
  },
  {
   "cell_type": "code",
   "execution_count": 6,
   "metadata": {},
   "outputs": [
    {
     "name": "stdout",
     "output_type": "stream",
     "text": [
      "tensor([[1., 1., 1.],\n",
      "        [1., 1., 1.],\n",
      "        [1., 1., 1.]], device='cuda:0')\n"
     ]
    }
   ],
   "source": [
    "\n",
    "x=torch.ones((3,3),dtype=torch.float32,device=device)\n",
    "print(x)\n"
   ]
  },
  {
   "cell_type": "code",
   "execution_count": 7,
   "metadata": {},
   "outputs": [
    {
     "name": "stdout",
     "output_type": "stream",
     "text": [
      "tensor([[1., 0., 0., 0., 0.],\n",
      "        [0., 1., 0., 0., 0.],\n",
      "        [0., 0., 1., 0., 0.],\n",
      "        [0., 0., 0., 1., 0.],\n",
      "        [0., 0., 0., 0., 1.]], device='cuda:0')\n"
     ]
    }
   ],
   "source": [
    "\n",
    "# I-dentity matrix\n",
    "x=torch.eye(5,5,dtype=torch.float32,device=device)\n",
    "print(x)"
   ]
  },
  {
   "cell_type": "code",
   "execution_count": 14,
   "metadata": {},
   "outputs": [
    {
     "name": "stdout",
     "output_type": "stream",
     "text": [
      "tensor([0., 1., 2., 3., 4.], device='cuda:0')\n"
     ]
    }
   ],
   "source": [
    "#makes an array from start to end with a step size\n",
    "x=torch.arange(start=0,end=5,step=1,dtype=torch.float32,device=device)\n",
    "print(x)"
   ]
  },
  {
   "cell_type": "code",
   "execution_count": 9,
   "metadata": {},
   "outputs": [
    {
     "name": "stdout",
     "output_type": "stream",
     "text": [
      "tensor([0.1000, 0.2000, 0.3000, 0.4000, 0.5000, 0.6000, 0.7000, 0.8000, 0.9000,\n",
      "        1.0000], device='cuda:0')\n"
     ]
    }
   ],
   "source": [
    "# linspace is like arange but it makes a number of points\n",
    "\n",
    "x=torch.linspace(start=0.1,end=1,steps=10,dtype=torch.float32,device=device)\n",
    "print(x)"
   ]
  },
  {
   "cell_type": "code",
   "execution_count": 10,
   "metadata": {},
   "outputs": [
    {
     "name": "stdout",
     "output_type": "stream",
     "text": [
      "tensor([[1., 2., 3.],\n",
      "        [4., 5., 6.],\n",
      "        [7., 8., 9.]], device='cuda:0')\n",
      "tensor([1., 5., 9.], device='cuda:0')\n",
      "tensor([[4., 0., 0.],\n",
      "        [0., 5., 0.],\n",
      "        [0., 0., 6.]], device='cuda:0')\n"
     ]
    }
   ],
   "source": [
    "# diag\n",
    "x=torch.tensor([[1,2,3],[4,5,6],[7,8,9]], dtype=torch.float32, device=device)\n",
    "print(x)\n",
    "\n",
    "# if diag takes a 2d tensor it returns the diagonal\n",
    "y=torch.diag(x)\n",
    "print(y)\n",
    "\n",
    "# if diag takes a 1d tensor it returns a 2d tensor with the diagonal being the 1d tensor\n",
    "y=torch.diag(x[1])\n",
    "print(y)"
   ]
  },
  {
   "cell_type": "code",
   "execution_count": 11,
   "metadata": {},
   "outputs": [
    {
     "name": "stdout",
     "output_type": "stream",
     "text": [
      "tensor([[0., 0., 0., 0., 0.],\n",
      "        [0., 0., 0., 0., 0.],\n",
      "        [0., 0., 0., 0., 0.],\n",
      "        [0., 0., 0., 0., 0.],\n",
      "        [0., 0., 0., 0., 0.]], device='cuda:0')\n"
     ]
    }
   ],
   "source": [
    "# numpy array to gpu tensor\n",
    "np_array=np.zeros((5,5))\n",
    "my_tensor=torch.from_numpy(np_array).float().to(device)\n",
    "print(my_tensor)"
   ]
  },
  {
   "cell_type": "markdown",
   "metadata": {},
   "source": [
    "# Math Operations"
   ]
  },
  {
   "cell_type": "code",
   "execution_count": 16,
   "metadata": {},
   "outputs": [
    {
     "name": "stdout",
     "output_type": "stream",
     "text": [
      "tensor([[1.5118, 1.3778, 0.5977],\n",
      "        [1.2791, 1.1519, 0.6623],\n",
      "        [1.0835, 0.4510, 0.8564]], device='cuda:0')\n",
      "tensor([[-0.0777, -0.1710,  0.0704],\n",
      "        [-0.4715,  0.6691, -0.3161],\n",
      "        [ 0.8412, -0.0109, -0.6150]], device='cuda:0')\n",
      "tensor([[0.5699, 0.4673, 0.0881],\n",
      "        [0.3535, 0.2198, 0.0847],\n",
      "        [0.1166, 0.0508, 0.0888]], device='cuda:0')\n",
      "tensor([[1.1385, 0.7781, 0.7300],\n",
      "        [1.1389, 0.5725, 0.6793],\n",
      "        [0.9721, 0.8262, 0.4502]], device='cuda:0')\n"
     ]
    }
   ],
   "source": [
    "first_Tensor=torch.rand((3,3),device=device)\n",
    "second_Tensor=torch.rand((3,3),device=device)\n"
   ]
  },
  {
   "cell_type": "code",
   "execution_count": 21,
   "metadata": {},
   "outputs": [
    {
     "name": "stdout",
     "output_type": "stream",
     "text": [
      "tensor([[1.5118, 1.3778, 0.5977],\n",
      "        [1.2791, 1.1519, 0.6623],\n",
      "        [1.0835, 0.4510, 0.8564]], device='cuda:0')\n",
      "tensor([[-0.0777, -0.1710,  0.0704],\n",
      "        [-0.4715,  0.6691, -0.3161],\n",
      "        [ 0.8412, -0.0109, -0.6150]], device='cuda:0')\n",
      "tensor([[0.5699, 0.4673, 0.0881],\n",
      "        [0.3535, 0.2198, 0.0847],\n",
      "        [0.1166, 0.0508, 0.0888]], device='cuda:0')\n",
      "tensor([[1.1385, 0.7781, 0.7300],\n",
      "        [1.1389, 0.5725, 0.6793],\n",
      "        [0.9721, 0.8262, 0.4502]], device='cuda:0')\n",
      "tensor([[0.5142, 0.3641, 0.1116],\n",
      "        [0.1631, 0.8291, 0.0300],\n",
      "        [0.9262, 0.0484, 0.0146]], device='cuda:0')\n",
      "tensor([[0.5142, 0.3641, 0.1116],\n",
      "        [0.1631, 0.8291, 0.0300],\n",
      "        [0.9262, 0.0484, 0.0146]], device='cuda:0')\n",
      "tensor([[1.0793, 1.0556, 0.3843],\n",
      "        [0.8239, 1.1108, 0.3134],\n",
      "        [0.8951, 0.8076, 0.3742]], device='cuda:0')\n",
      "tensor([[1.0793, 1.0556, 0.3843],\n",
      "        [0.8239, 1.1108, 0.3134],\n",
      "        [0.8951, 0.8076, 0.3742]], device='cuda:0')\n"
     ]
    }
   ],
   "source": [
    "\n",
    "# element wise addition\n",
    "print(first_Tensor+second_Tensor)\n",
    "\n",
    "# element wise subtraction\n",
    "print(first_Tensor-second_Tensor)\n",
    "\n",
    "# element wise multiplication\n",
    "print(first_Tensor*second_Tensor)\n",
    "\n",
    "# matrix multiplication\n",
    "print(first_Tensor.mm(second_Tensor))\n",
    "\n",
    "# element wise power\n",
    "print(first_Tensor**2)\n",
    "# another method\n",
    "print(first_Tensor.pow(2))\n",
    "# mat power\n",
    "print(first_Tensor.matrix_power(2))\n",
    "print(first_Tensor.mm(first_Tensor))"
   ]
  },
  {
   "cell_type": "code",
   "execution_count": 28,
   "metadata": {},
   "outputs": [
    {
     "name": "stdout",
     "output_type": "stream",
     "text": [
      "tensor([[1., 2., 3.],\n",
      "        [4., 5., 6.],\n",
      "        [7., 8., 9.]], device='cuda:0')\n"
     ]
    }
   ],
   "source": [
    "#tensor from 1 to 9\n",
    "from turtle import shape\n",
    "\n",
    "\n",
    "x=torch.arange(1,10,dtype=torch.float32,device=device).reshape(3,3)\n",
    "print(x)"
   ]
  },
  {
   "cell_type": "code",
   "execution_count": 41,
   "metadata": {},
   "outputs": [
    {
     "name": "stdout",
     "output_type": "stream",
     "text": [
      "tensor([3., 6., 9.], device='cuda:0') tensor([2, 2, 2], device='cuda:0')\n",
      "tensor([[2., 2., 3.],\n",
      "        [4., 5., 6.],\n",
      "        [7., 8., 8.]], device='cuda:0')\n"
     ]
    }
   ],
   "source": [
    "a,b=x.float().max(dim=1)\n",
    "print(a,b)\n",
    "z=torch.clamp(x,min=2,max=8)\n",
    "print(z)"
   ]
  },
  {
   "cell_type": "code",
   "execution_count": 44,
   "metadata": {},
   "outputs": [
    {
     "name": "stdout",
     "output_type": "stream",
     "text": [
      "tensor([[1.],\n",
      "        [4.],\n",
      "        [7.]], device='cuda:0')\n"
     ]
    }
   ],
   "source": [
    "print(x[:,:1])"
   ]
  },
  {
   "cell_type": "code",
   "execution_count": 46,
   "metadata": {},
   "outputs": [],
   "source": [
    "x=torch.tensor([1,0,1,1,1],device=device)"
   ]
  },
  {
   "cell_type": "code",
   "execution_count": 47,
   "metadata": {},
   "outputs": [
    {
     "name": "stdout",
     "output_type": "stream",
     "text": [
      "tensor([1, 0, 1, 1, 1], device='cuda:0')\n"
     ]
    }
   ],
   "source": [
    "print(x)"
   ]
  },
  {
   "cell_type": "code",
   "execution_count": null,
   "metadata": {},
   "outputs": [],
   "source": []
  }
 ],
 "metadata": {
  "kernelspec": {
   "display_name": "Python 3.9.12 ('base')",
   "language": "python",
   "name": "python3"
  },
  "language_info": {
   "codemirror_mode": {
    "name": "ipython",
    "version": 3
   },
   "file_extension": ".py",
   "mimetype": "text/x-python",
   "name": "python",
   "nbconvert_exporter": "python",
   "pygments_lexer": "ipython3",
   "version": "3.9.12"
  },
  "orig_nbformat": 4,
  "vscode": {
   "interpreter": {
    "hash": "85532dc71f3ddefdcfdbd0be1b525c1c0affee72012a798b080bb8224659b1af"
   }
  }
 },
 "nbformat": 4,
 "nbformat_minor": 2
}
